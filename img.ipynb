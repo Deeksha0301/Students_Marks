{
 "cells": [
  {
   "cell_type": "code",
   "execution_count": 1,
   "metadata": {},
   "outputs": [
    {
     "name": "stderr",
     "output_type": "stream",
     "text": [
      "Cloning into 'PaddleOCR'...\n",
      "Updating files:  61% (1161/1892)\n",
      "Updating files:  62% (1174/1892)\n",
      "Updating files:  63% (1192/1892)\n",
      "Updating files:  64% (1211/1892)\n",
      "Updating files:  65% (1230/1892)\n",
      "Updating files:  66% (1249/1892)\n",
      "Updating files:  67% (1268/1892)\n",
      "Updating files:  68% (1287/1892)\n",
      "Updating files:  69% (1306/1892)\n",
      "Updating files:  70% (1325/1892)\n",
      "Updating files:  71% (1344/1892)\n",
      "Updating files:  72% (1363/1892)\n",
      "Updating files:  73% (1382/1892)\n",
      "Updating files:  74% (1401/1892)\n",
      "Updating files:  75% (1419/1892)\n",
      "Updating files:  76% (1438/1892)\n",
      "Updating files:  77% (1457/1892)\n",
      "Updating files:  78% (1476/1892)\n",
      "Updating files:  79% (1495/1892)\n",
      "Updating files:  80% (1514/1892)\n",
      "Updating files:  81% (1533/1892)\n",
      "Updating files:  82% (1552/1892)\n",
      "Updating files:  83% (1571/1892)\n",
      "Updating files:  84% (1590/1892)\n",
      "Updating files:  85% (1609/1892)\n",
      "Updating files:  86% (1628/1892)\n",
      "Updating files:  87% (1647/1892)\n",
      "Updating files:  88% (1665/1892)\n",
      "Updating files:  89% (1684/1892)\n",
      "Updating files:  90% (1703/1892)\n",
      "Updating files:  91% (1722/1892)\n",
      "Updating files:  92% (1741/1892)\n",
      "Updating files:  93% (1760/1892)\n",
      "Updating files:  94% (1779/1892)\n",
      "Updating files:  95% (1798/1892)\n",
      "Updating files:  96% (1817/1892)\n",
      "Updating files:  97% (1836/1892)\n",
      "Updating files:  98% (1855/1892)\n",
      "Updating files:  99% (1874/1892)\n",
      "Updating files: 100% (1892/1892)\n",
      "Updating files: 100% (1892/1892), done.\n"
     ]
    }
   ],
   "source": [
    "\n",
    "!git clone https://github.com/PaddlePaddle/PaddleOCR.git"
   ]
  },
  {
   "cell_type": "code",
   "execution_count": 1,
   "metadata": {},
   "outputs": [
    {
     "name": "stderr",
     "output_type": "stream",
     "text": [
      "'wget' is not recognized as an internal or external command,\n",
      "operable program or batch file.\n",
      "'wget' is not recognized as an internal or external command,\n",
      "operable program or batch file.\n",
      "'wget' is not recognized as an internal or external command,\n",
      "operable program or batch file.\n"
     ]
    }
   ],
   "source": [
    "# Download the detection model of the ultra-lightweight table English OCR model and unzip it\n",
    "!wget https://paddleocr.bj.bcebos.com/dygraph_v2.0/table/en_ppocr_mobile_v2.0_table_det_infer.tar && tar xf en_ppocr_mobile_v2.0_table_det_infer.tar\n",
    "\n",
    "# Download the recognition model of the ultra-lightweight table English OCR model and unzip it\n",
    "!wget https://paddleocr.bj.bcebos.com/dygraph_v2.0/table/en_ppocr_mobile_v2.0_table_rec_infer.tar && tar xf en_ppocr_mobile_v2.0_table_rec_infer.tar\n",
    "\n",
    "# Download the ultra-lightweight English table inch model and unzip it\n",
    "!wget https://paddleocr.bj.bcebos.com/dygraph_v2.0/table/en_ppocr_mobile_v2.0_table_structure_infer.tar && tar xf en_ppocr_mobile_v2.0_table_structure_infer.tar\n"
   ]
  },
  {
   "cell_type": "code",
   "execution_count": 10,
   "metadata": {},
   "outputs": [
    {
     "name": "stdout",
     "output_type": "stream",
     "text": [
      "[2023/10/23 17:45:13] ppocr INFO: [0/1] ../../yolov5/annotated_image.jpg\n",
      "[2023/10/23 17:45:16] ppocr DEBUG: dt_boxes num : 31, elapse : 0.7105834484100342\n",
      "[2023/10/23 17:45:17] ppocr DEBUG: rec_res num  : 31, elapse : 1.7345445156097412\n",
      "[2023/10/23 17:45:17] ppocr INFO: <html><body><table><thead><tr></td></tr></td></tr></td></tr></td></tr></td></tr></td></tr></td></tr></td></tr></td></tr></td></tr></td></tr></td></tr></td></tr></td></tr></td></tr></td></tr></td></tr></thead><tbody></tbody><tr></td></tr></td></tr></td></tr></td></tr></td></tr></td></tr></td></tr></td></tr></td></tr></td></tr></td></tr></td></tr></td></tr></thead><tr></td></tr></td></tr></td></tr></td></tr></td></tr></td></tr></td></tr></td></tr></td></tr></td></tr></td></tr></td></tr></thead><tr></td></tr></td></tr></td></tr></td></tr></td></tr></td></tr></td></tr></td></tr></td></tr></td></tr></td></tr></td></tr></thead><tr></td></tr></td></tr></td></tr></td></tr></td></tr></td></tr></td></tr></td></tr></td></tr></td></tr></td></tr></td></tr></thead><tr></td></tr></td></tr></td></tr></td></tr></td></tr></td></tr></td></tr></td></tr></td></tr></td></tr></td></tr></td></tr></thead><tr></td></tr></td></tr></td></tr></td></tr></td></tr></td></tr></td></tr></td></tr></td></tr></td></tr></td></tr></td></tr></thead><tr></td></tr></td></tr></td></tr></td></tr></td></tr></td></tr></td></tr></td></tr></td></tr></td></tr></td></tr></td></tr></thead><tr></td></tr></td></tr></td></tr></td></tr></td></tr></td></tr></td></tr></td></tr></td></tr></td></tr></td></tr></td></tr></thead><tr></td></tr></td></tr></td></tr></td></tr></td></tr></td></tr></td></tr></td></tr></td></tr></td></tr></td></tr></td></tr></thead><tr></td></tr></td></tr></td></tr></td></tr></td></tr></td></tr></td></tr></td></tr></td></tr></td></tr></td></tr></td></tr></thead><td</table></body></html>\n",
      "[2023/10/23 17:45:18] ppocr INFO: excel saved to ./output/table\\annotated_image.xlsx\n",
      "[2023/10/23 17:45:18] ppocr INFO: Predict time : 4.488s\n"
     ]
    },
    {
     "name": "stderr",
     "output_type": "stream",
     "text": [
      "E1023 17:45:12.765937  3152 analysis_config.cc:121] Please use PaddlePaddle with GPU version.\n",
      "E1023 17:45:13.089905  3152 analysis_config.cc:121] Please use PaddlePaddle with GPU version.\n",
      "E1023 17:45:13.346400  3152 analysis_config.cc:121] Please use PaddlePaddle with GPU version.\n",
      "E1023 17:45:13.554438  3152 analysis_config.cc:121] Please use PaddlePaddle with GPU version.\n"
     ]
    }
   ],
   "source": [
    "!py -3.9 ./table/predict_table.py --det_model_dir=inference/en_PP-OCRv3_det_infer --rec_model_dir=inference/en_ppocr_mobile_v2.0_table_rec_infer --table_model_dir=inference/en_ppocr_mobile_v2.0_table_structure_infer --image_dir=../../yolov5/annotated_image.jpg --rec_char_dict_path=../ppocr/utils/dict/table_dict.txt --table_char_dict_path=../ppocr/utils/dict/table_structure_dict.txt --det_limit_side_len=736 --det_limit_type=min --output ./output/table"
   ]
  },
  {
   "cell_type": "code",
   "execution_count": 2,
   "metadata": {},
   "outputs": [
    {
     "name": "stdout",
     "output_type": "stream",
     "text": [
      "c:\\freelancer\\student ocr\\PaddleOCR\\ppstructure\n"
     ]
    }
   ],
   "source": [
    "%cd PaddleOCR/ppstructure"
   ]
  }
 ],
 "metadata": {
  "kernelspec": {
   "display_name": "Python 3",
   "language": "python",
   "name": "python3"
  },
  "language_info": {
   "codemirror_mode": {
    "name": "ipython",
    "version": 3
   },
   "file_extension": ".py",
   "mimetype": "text/x-python",
   "name": "python",
   "nbconvert_exporter": "python",
   "pygments_lexer": "ipython3",
   "version": "3.9.0"
  }
 },
 "nbformat": 4,
 "nbformat_minor": 2
}
