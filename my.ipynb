{
 "cells": [
  {
   "cell_type": "code",
   "execution_count": 2,
   "metadata": {},
   "outputs": [
    {
     "ename": "error",
     "evalue": "OpenCV(4.8.0) D:\\a\\opencv-python\\opencv-python\\opencv\\modules\\dnn\\src\\onnx\\onnx_importer.cpp:274: error: (-5:Bad argument) Can't read ONNX file: best.onnx in function 'cv::dnn::dnn4_v20230620::ONNXImporter::ONNXImporter'\n",
     "output_type": "error",
     "traceback": [
      "\u001b[1;31m---------------------------------------------------------------------------\u001b[0m",
      "\u001b[1;31merror\u001b[0m                                     Traceback (most recent call last)",
      "\u001b[1;32mc:\\freelancer\\student ocr\\my.ipynb Cell 1\u001b[0m line \u001b[0;36m4\n\u001b[0;32m      <a href='vscode-notebook-cell:/c%3A/freelancer/student%20ocr/my.ipynb#W0sZmlsZQ%3D%3D?line=0'>1</a>\u001b[0m \u001b[39mimport\u001b[39;00m \u001b[39mcv2\u001b[39;00m\n\u001b[0;32m      <a href='vscode-notebook-cell:/c%3A/freelancer/student%20ocr/my.ipynb#W0sZmlsZQ%3D%3D?line=1'>2</a>\u001b[0m \u001b[39mimport\u001b[39;00m \u001b[39mnumpy\u001b[39;00m \u001b[39mas\u001b[39;00m \u001b[39mnp\u001b[39;00m\n\u001b[1;32m----> <a href='vscode-notebook-cell:/c%3A/freelancer/student%20ocr/my.ipynb#W0sZmlsZQ%3D%3D?line=3'>4</a>\u001b[0m net \u001b[39m=\u001b[39m cv2\u001b[39m.\u001b[39;49mdnn\u001b[39m.\u001b[39;49mreadNetFromONNX(\u001b[39m\"\u001b[39;49m\u001b[39mbest.onnx\u001b[39;49m\u001b[39m\"\u001b[39;49m)\n\u001b[0;32m      <a href='vscode-notebook-cell:/c%3A/freelancer/student%20ocr/my.ipynb#W0sZmlsZQ%3D%3D?line=4'>5</a>\u001b[0m file \u001b[39m=\u001b[39m \u001b[39mopen\u001b[39m(\u001b[39m\"\u001b[39m\u001b[39mcoco.txt\u001b[39m\u001b[39m\"\u001b[39m, \u001b[39m\"\u001b[39m\u001b[39mr\u001b[39m\u001b[39m\"\u001b[39m)\n\u001b[0;32m      <a href='vscode-notebook-cell:/c%3A/freelancer/student%20ocr/my.ipynb#W0sZmlsZQ%3D%3D?line=5'>6</a>\u001b[0m classes \u001b[39m=\u001b[39m file\u001b[39m.\u001b[39mread()\u001b[39m.\u001b[39msplit(\u001b[39m'\u001b[39m\u001b[39m\\n\u001b[39;00m\u001b[39m'\u001b[39m)\n",
      "\u001b[1;31merror\u001b[0m: OpenCV(4.8.0) D:\\a\\opencv-python\\opencv-python\\opencv\\modules\\dnn\\src\\onnx\\onnx_importer.cpp:274: error: (-5:Bad argument) Can't read ONNX file: best.onnx in function 'cv::dnn::dnn4_v20230620::ONNXImporter::ONNXImporter'\n"
     ]
    }
   ],
   "source": [
    "import cv2\n",
    "import numpy as np\n",
    "\n",
    "net = cv2.dnn.readNetFromONNX(\"best.onnx\")\n",
    "file = open(\"coco.txt\", \"r\")\n",
    "classes = file.read().split('\\n')\n",
    "print(classes)\n",
    "\n",
    "image_paths = [\"../Major P/set4dataset-62(410411132780525).jpg\"]  # Add the paths of the images you want to process\n",
    "\n",
    "for image_path in image_paths:\n",
    "    img = cv2.imread(image_path)\n",
    "\n",
    "    img_height, img_width = img.shape[:2]  # Get the height and width of the image\n",
    "\n",
    "    blob = cv2.dnn.blobFromImage(img, scalefactor=1/255, size=(640, 640), mean=[0, 0, 0], swapRB=True, crop=False)\n",
    "    net.setInput(blob)\n",
    "    detections = net.forward()[0]\n",
    "\n",
    "    # cx, cy, w, h, confidence, 80 class_scores\n",
    "    # class_ids, confidences, boxes\n",
    "\n",
    "    class_ids = []\n",
    "    confidences = []\n",
    "    boxes = []\n",
    "    rows = detections.shape[0]\n",
    "\n",
    "    x_scale = img_width / 640\n",
    "    y_scale = img_height / 640\n",
    "\n",
    "    for i in range(rows):\n",
    "        row = detections[i]\n",
    "        confidence = row[4]\n",
    "        if confidence > 0.5:\n",
    "            class_scores = row[5:]\n",
    "            ind = np.argmax(class_scores)\n",
    "            if class_scores[ind] > 0.5:\n",
    "                class_ids.append(ind)\n",
    "                confidences.append(confidence)\n",
    "                cx, cy, w, h = row[:4]\n",
    "                x1 = int((cx - w / 2) * x_scale)\n",
    "                y1 = int((cy - h / 2) * y_scale)\n",
    "                width = int(w * x_scale)\n",
    "                height = int(h * y_scale)\n",
    "                box = np.array([x1, y1, width, height])\n",
    "                boxes.append(box)\n",
    "\n",
    "    indices = cv2.dnn.NMSBoxes(boxes, confidences, 0.4, 0.5)\n",
    "\n",
    "    for i in indices:\n",
    "        x1, y1, w, h = boxes[i]\n",
    "        label = classes[class_ids[i]]\n",
    "        conf = confidences[i]\n",
    "        text = label + \" {:.2f}\".format(conf)\n",
    "\n",
    "        # Crop the detection region\n",
    "        crop_img = img[y1:y1+h, x1:x1+w]\n",
    "\n",
    "        # Save cropped image with the respective class name\n",
    "        save_path = f\"{label}.jpg\"\n",
    "        cv2.imwrite(save_path, crop_img)\n",
    "\n",
    "        cv2.rectangle(img, (x1, y1), (x1 + w, y1 + h), (255, 0, 0), 2)\n",
    "        cv2.putText(img, text, (x1, y1 - 2), cv2.FONT_HERSHEY_COMPLEX, 0.7, (255, 0, 255), 2)\n",
    "\n",
    "    cv2.imwrite('my.jpg', img)\n",
    "    cv2.imshow(\"Image\", img)\n",
    "    cv2.waitKey(0)\n",
    "\n",
    "cv2.destroyAllWindows()"
   ]
  },
  {
   "cell_type": "code",
   "execution_count": null,
   "metadata": {},
   "outputs": [],
   "source": []
  },
  {
   "cell_type": "code",
   "execution_count": 1,
   "metadata": {},
   "outputs": [],
   "source": [
    "!cd yolov5"
   ]
  },
  {
   "cell_type": "code",
   "execution_count": null,
   "metadata": {},
   "outputs": [],
   "source": []
  }
 ],
 "metadata": {
  "kernelspec": {
   "display_name": "Python 3",
   "language": "python",
   "name": "python3"
  },
  "language_info": {
   "codemirror_mode": {
    "name": "ipython",
    "version": 3
   },
   "file_extension": ".py",
   "mimetype": "text/x-python",
   "name": "python",
   "nbconvert_exporter": "python",
   "pygments_lexer": "ipython3",
   "version": "3.9.0"
  }
 },
 "nbformat": 4,
 "nbformat_minor": 2
}
